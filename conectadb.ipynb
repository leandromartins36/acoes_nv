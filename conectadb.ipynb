{
 "cells": [
  {
   "cell_type": "code",
   "execution_count": 1,
   "metadata": {},
   "outputs": [],
   "source": [
    "import pyodbc\n",
    "import pandas as pd"
   ]
  },
  {
   "cell_type": "code",
   "execution_count": 2,
   "metadata": {},
   "outputs": [],
   "source": [
    "def SQLSelect(query):\n",
    "    try:\n",
    "        conn = pyodbc.connect('Trusted_Connection=yes', \n",
    "                      driver = '{ODBC Driver 13 for SQL Server}',\n",
    "                      server = '(localdb)\\MSSQLLocalDB', \n",
    "                      database = 'FinalETLProd') \n",
    "\n",
    "        out = pd.read_sql_query(query,conn)\n",
    "        return out\n",
    "        print('conectado')\n",
    "    except:\n",
    "        print('erro ao conectar')\n"
   ]
  },
  {
   "cell_type": "code",
   "execution_count": 4,
   "metadata": {},
   "outputs": [
    {
     "name": "stdout",
     "output_type": "stream",
     "text": [
      "erro ao conectar\n"
     ]
    }
   ],
   "source": [
    "query = '''\n",
    "    SELECT [DATA]\n",
    "      ,[NO_ACAO]\n",
    "      ,[CO_ACAO]      \n",
    "      ,[FECHAMENTO]\n",
    "      ,[VARIACAO]      \n",
    "      ,[DATA_CARGA]\n",
    "  FROM [FinalETLProd].[dbo].[ACOES]\n",
    "'''\n",
    "SQLSelect(query)"
   ]
  },
  {
   "cell_type": "code",
   "execution_count": 15,
   "metadata": {},
   "outputs": [],
   "source": [
    "#função de conexão para trucar a tabela.\n",
    "def SQLTruncate(NomeTabela):\n",
    "        conn = pyodbc.connect('Trusted_Connection=yes', \n",
    "                        driver = '{ODBC Driver 13 for SQL Server}',\n",
    "                        server = '(localdb)\\MSSQLLocalDB', \n",
    "                        database = 'FinalETLProd') \n",
    "\n",
    "\n",
    "        cursor = conn.cursor()\n",
    "\n",
    "        cursor.execute(f'''\n",
    "\n",
    "                   TRUNCATE TABLE {NomeTabela}\n",
    "\n",
    "                   ''')\n",
    "\n",
    "        conn.commit()\n",
    "        cursor.close()"
   ]
  },
  {
   "cell_type": "code",
   "execution_count": 16,
   "metadata": {},
   "outputs": [],
   "source": [
    "#Apaga os dados da tabela que será informada entre as aspas.\n",
    "SQLTruncate('ACOES')"
   ]
  },
  {
   "cell_type": "code",
   "execution_count": 34,
   "metadata": {},
   "outputs": [],
   "source": [
    "def SQLInsertDados(TabelaRecepDados):\n",
    "    base = (['DATA', 'NO_ACAO', 'CO_ACAO', 'FECHAMENTO', 'VARIACAO'] )\n",
    "    TabelaRecepDados = base.append(TabelaRecepDados)\n",
    "    \n",
    "    conn = pyodbc.connect('Trusted_Connection=yes', \n",
    "                          driver = '{ODBC Driver 13 for SQL Server}',\n",
    "                          server = '(localdb)\\MSSQLLocalDB', \n",
    "                          database = 'FinalETLProd')\n",
    "    \n",
    "    \n",
    "    cursor = conn.cursor()\n",
    "    \n",
    "    for index, row in TabelaRecepDados:\n",
    "        cursor.execute('''\n",
    "        INSERT INTO [DBO].[ACOES]\n",
    "            ([DATA],\n",
    "            [NO_ACAO],\n",
    "            [CO_ACAO], \n",
    "            [FECHAMENTO],\n",
    "            [VARIACAO] \n",
    "            )\n",
    "        VALUES\n",
    "             (?,?,?,?,?) \n",
    "         ''' , # mesma quantidade de variáveis\n",
    "    \n",
    "        row['DATA'], \n",
    "        row['NO_ACAO'], \n",
    "        row['CO_ACAO'], \n",
    "        row['FECHAMENTO'], \n",
    "        row['VARIACAO']    \n",
    "        )\n",
    "    \n",
    "    conn.commit()\n",
    "    cursor.close()\n",
    "    "
   ]
  },
  {
   "cell_type": "code",
   "execution_count": 35,
   "metadata": {},
   "outputs": [
    {
     "ename": "TypeError",
     "evalue": "'NoneType' object is not iterable",
     "output_type": "error",
     "traceback": [
      "\u001b[1;31m---------------------------------------------------------------------------\u001b[0m",
      "\u001b[1;31mTypeError\u001b[0m                                 Traceback (most recent call last)",
      "\u001b[1;32m<ipython-input-35-1959447fccae>\u001b[0m in \u001b[0;36m<module>\u001b[1;34m\u001b[0m\n\u001b[0;32m      4\u001b[0m \u001b[0mFECHAMENTO\u001b[0m \u001b[1;33m=\u001b[0m \u001b[1;34m'89,00'\u001b[0m\u001b[1;33m\u001b[0m\u001b[1;33m\u001b[0m\u001b[0m\n\u001b[0;32m      5\u001b[0m \u001b[0mACOES\u001b[0m \u001b[1;33m=\u001b[0m \u001b[1;33m(\u001b[0m\u001b[0mDATA\u001b[0m\u001b[1;33m,\u001b[0m \u001b[0mNO_ACAO\u001b[0m\u001b[1;33m,\u001b[0m \u001b[0mCO_ACAO\u001b[0m\u001b[1;33m,\u001b[0m \u001b[0mFECHAMENTO\u001b[0m\u001b[1;33m)\u001b[0m\u001b[1;33m\u001b[0m\u001b[1;33m\u001b[0m\u001b[0m\n\u001b[1;32m----> 6\u001b[1;33m \u001b[0mSQLInsertDados\u001b[0m\u001b[1;33m(\u001b[0m\u001b[0mACOES\u001b[0m\u001b[1;33m)\u001b[0m\u001b[1;33m\u001b[0m\u001b[1;33m\u001b[0m\u001b[0m\n\u001b[0m",
      "\u001b[1;32m<ipython-input-34-a58bc18af02c>\u001b[0m in \u001b[0;36mSQLInsertDados\u001b[1;34m(TabelaRecepDados)\u001b[0m\n\u001b[0;32m     11\u001b[0m     \u001b[0mcursor\u001b[0m \u001b[1;33m=\u001b[0m \u001b[0mconn\u001b[0m\u001b[1;33m.\u001b[0m\u001b[0mcursor\u001b[0m\u001b[1;33m(\u001b[0m\u001b[1;33m)\u001b[0m\u001b[1;33m\u001b[0m\u001b[1;33m\u001b[0m\u001b[0m\n\u001b[0;32m     12\u001b[0m \u001b[1;33m\u001b[0m\u001b[0m\n\u001b[1;32m---> 13\u001b[1;33m     \u001b[1;32mfor\u001b[0m \u001b[0mindex\u001b[0m\u001b[1;33m,\u001b[0m \u001b[0mrow\u001b[0m \u001b[1;32min\u001b[0m \u001b[0mTabelaRecepDados\u001b[0m\u001b[1;33m:\u001b[0m\u001b[1;33m\u001b[0m\u001b[1;33m\u001b[0m\u001b[0m\n\u001b[0m\u001b[0;32m     14\u001b[0m         cursor.execute('''\n\u001b[0;32m     15\u001b[0m         \u001b[0mINSERT\u001b[0m \u001b[0mINTO\u001b[0m \u001b[1;33m[\u001b[0m\u001b[0mDBO\u001b[0m\u001b[1;33m]\u001b[0m\u001b[1;33m.\u001b[0m\u001b[1;33m[\u001b[0m\u001b[0mACOES\u001b[0m\u001b[1;33m]\u001b[0m\u001b[1;33m\u001b[0m\u001b[1;33m\u001b[0m\u001b[0m\n",
      "\u001b[1;31mTypeError\u001b[0m: 'NoneType' object is not iterable"
     ]
    }
   ],
   "source": [
    "DATA = '2021-11-01'\n",
    "NO_ACAO = 'FUNDO IMOBILIÁRIO'\n",
    "CO_ACAO = 'CXCO11'\n",
    "FECHAMENTO = '89,00'\n",
    "ACOES = (DATA, NO_ACAO, CO_ACAO, FECHAMENTO)\n",
    "SQLInsertDados(ACOES)"
   ]
  }
 ],
 "metadata": {
  "interpreter": {
   "hash": "cce530332cff06c24b58a61b30a51f42c950876c50e2156a66e3b704f37760bd"
  },
  "kernelspec": {
   "display_name": "Python 3.8.5 64-bit ('base': conda)",
   "name": "python3"
  },
  "language_info": {
   "codemirror_mode": {
    "name": "ipython",
    "version": 3
   },
   "file_extension": ".py",
   "mimetype": "text/x-python",
   "name": "python",
   "nbconvert_exporter": "python",
   "pygments_lexer": "ipython3",
   "version": "3.7.1"
  },
  "orig_nbformat": 4
 },
 "nbformat": 4,
 "nbformat_minor": 2
}

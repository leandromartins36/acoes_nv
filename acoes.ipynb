{
 "cells": [
  {
   "cell_type": "markdown",
   "metadata": {},
   "source": [
    "!pip install yfinance --upgrade --no-cache-dir\n",
    "!pip install pandas_datareader --upgrade --no-cache-dir\n",
    "from datetime import datetime\n",
    "start = datetime(2021, 10, 1).strftime('%Y-%m-%d')\n",
    "end = datetime.today().strftime('%Y-%m-%d')\n",
    "print(start, end)"
   ]
  },
  {
   "cell_type": "code",
   "execution_count": null,
   "metadata": {},
   "outputs": [],
   "source": [
    "import numpy as np\n",
    "import pandas as pd \n",
    "import matplotlib.pyplot as plt\n",
    "import pandas_datareader.data as web\n",
    "import yfinance as yf \n",
    "yf.pdr_override()\n",
    "from datetime import datetime"
   ]
  },
  {
   "cell_type": "code",
   "execution_count": null,
   "metadata": {},
   "outputs": [],
   "source": [
    "#data de inicio e fim da captura do historico de ações\n",
    "#yf.pdr_override()\n",
    "data_inicial = datetime(2021, 10, 15).strftime('%Y-%m-%d')\n",
    "data_final = datetime.today().strftime('%Y-%m-%d')\n",
    "\n",
    "\n"
   ]
  },
  {
   "cell_type": "code",
   "execution_count": null,
   "metadata": {},
   "outputs": [],
   "source": [
    "#le a planilha de ações\n",
    "empresas_df = pd.read_excel(\"Empresas.xlsx\")\n",
    "empresas_df"
   ]
  },
  {
   "cell_type": "code",
   "execution_count": null,
   "metadata": {},
   "outputs": [],
   "source": [
    "#percorre o data frame e mostra as ações\n",
    "for empresa in empresas_df['Empresas']: \n",
    "    print(f\"{empresa}:\")\n",
    "    if empresa == '^BVSP':        \n",
    "        df = web.DataReader(f'{empresa}', data_source='yahoo', start=data_inicial, end=data_final)\n",
    "    else:\n",
    "        df = web.DataReader(f'{empresa}.SA', data_source='yahoo', start=data_inicial, end=data_final)\n",
    "    display(df)"
   ]
  },
  {
   "cell_type": "code",
   "execution_count": null,
   "metadata": {},
   "outputs": [],
   "source": []
  }
 ],
 "metadata": {
  "interpreter": {
   "hash": "cce530332cff06c24b58a61b30a51f42c950876c50e2156a66e3b704f37760bd"
  },
  "kernelspec": {
   "display_name": "Python 3.8.5 64-bit ('base': conda)",
   "name": "python3"
  },
  "language_info": {
   "codemirror_mode": {
    "name": "ipython",
    "version": 3
   },
   "file_extension": ".py",
   "mimetype": "text/x-python",
   "name": "python",
   "nbconvert_exporter": "python",
   "pygments_lexer": "ipython3",
   "version": "3.8.5"
  }
 },
 "nbformat": 4,
 "nbformat_minor": 2
}

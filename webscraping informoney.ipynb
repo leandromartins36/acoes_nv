{
 "cells": [
  {
   "cell_type": "code",
   "execution_count": 1,
   "metadata": {},
   "outputs": [],
   "source": [
    "from urllib.request import urlopen, Request\n",
    "from urllib.error import URLError, HTTPError\n",
    "from bs4 import BeautifulSoup as bs\n",
    "import requests\n",
    "import pandas as pd\n",
    "import time\n",
    "import pyodbc\n",
    "import sys\n",
    "import re\n",
    "import sqlalchemy as sa"
   ]
  },
  {
   "cell_type": "code",
   "execution_count": 2,
   "metadata": {},
   "outputs": [],
   "source": [
    "agente = 'Mozilla/5.0 (X11; Linux x86_64) AppleWebKit/537.36 (KHTML, like Gecko) Chrome/93.0.4577.63 Safari/537.36'\n",
    "\n",
    "url = 'https://www.infomoney.com.br/cotacoes/fundo-imobiliario-cxco11/historico/'\n",
    "\n",
    "headers = {'User-Agent': agente}"
   ]
  },
  {
   "cell_type": "code",
   "execution_count": 3,
   "metadata": {},
   "outputs": [],
   "source": [
    "def consultarweb(url):\n",
    "    try:\n",
    "        req = Request(url, headers = headers)\n",
    "        response = urlopen(req)\n",
    "        print(response.read())\n",
    "\n",
    "    except HTTPError as e:\n",
    "        print(e.status, e.reason)\n",
    "        print('excessão 1 -> url não localizada!')\n",
    "    \n",
    "    except URLError as e:\n",
    "        print('excessão 2 -> dominio não existe!')\n",
    "        print(e.reason)\n",
    "\n"
   ]
  },
  {
   "cell_type": "code",
   "execution_count": 4,
   "metadata": {},
   "outputs": [],
   "source": [
    "def consultaWebB(url):\n",
    "    try:\n",
    "        req = Request(url, headers = headers)\n",
    "        response = urlopen(req)\n",
    "        return response.read()\n",
    "\n",
    "    except:\n",
    "        pass"
   ]
  },
  {
   "cell_type": "code",
   "execution_count": 5,
   "metadata": {},
   "outputs": [],
   "source": [
    "def captura_html_pagina(url):\n",
    "    html = consultaWebB(url)\n",
    "    soup = bs(html, 'html.parser')\n",
    "    return soup"
   ]
  },
  {
   "cell_type": "code",
   "execution_count": 6,
   "metadata": {},
   "outputs": [
    {
     "ename": "TypeError",
     "evalue": "object of type 'NoneType' has no len()",
     "output_type": "error",
     "traceback": [
      "\u001b[1;31m---------------------------------------------------------------------------\u001b[0m",
      "\u001b[1;31mTypeError\u001b[0m                                 Traceback (most recent call last)",
      "\u001b[1;32m<ipython-input-6-ae8392dc434b>\u001b[0m in \u001b[0;36m<module>\u001b[1;34m\u001b[0m\n\u001b[1;32m----> 1\u001b[1;33m \u001b[0mcaptura_html_pagina\u001b[0m\u001b[1;33m(\u001b[0m\u001b[0murl\u001b[0m\u001b[1;33m)\u001b[0m\u001b[1;33m.\u001b[0m\u001b[0mprettify\u001b[0m\u001b[1;33m(\u001b[0m\u001b[1;33m)\u001b[0m\u001b[1;33m\u001b[0m\u001b[1;33m\u001b[0m\u001b[0m\n\u001b[0m\u001b[0;32m      2\u001b[0m \u001b[0mhtml\u001b[0m \u001b[1;33m=\u001b[0m \u001b[0mcaptura_html_pagina\u001b[0m\u001b[1;33m(\u001b[0m\u001b[0murl\u001b[0m\u001b[1;33m)\u001b[0m\u001b[1;33m\u001b[0m\u001b[1;33m\u001b[0m\u001b[0m\n\u001b[0;32m      3\u001b[0m \u001b[0mprint\u001b[0m\u001b[1;33m(\u001b[0m\u001b[0mhtml\u001b[0m\u001b[1;33m.\u001b[0m\u001b[0mprettify\u001b[0m\u001b[1;33m(\u001b[0m\u001b[1;33m)\u001b[0m\u001b[1;33m)\u001b[0m\u001b[1;33m\u001b[0m\u001b[1;33m\u001b[0m\u001b[0m\n",
      "\u001b[1;32m<ipython-input-5-1a65ec701fc0>\u001b[0m in \u001b[0;36mcaptura_html_pagina\u001b[1;34m(url)\u001b[0m\n\u001b[0;32m      1\u001b[0m \u001b[1;32mdef\u001b[0m \u001b[0mcaptura_html_pagina\u001b[0m\u001b[1;33m(\u001b[0m\u001b[0murl\u001b[0m\u001b[1;33m)\u001b[0m\u001b[1;33m:\u001b[0m\u001b[1;33m\u001b[0m\u001b[1;33m\u001b[0m\u001b[0m\n\u001b[0;32m      2\u001b[0m     \u001b[0mhtml\u001b[0m \u001b[1;33m=\u001b[0m \u001b[0mconsultaWebB\u001b[0m\u001b[1;33m(\u001b[0m\u001b[0murl\u001b[0m\u001b[1;33m)\u001b[0m\u001b[1;33m\u001b[0m\u001b[1;33m\u001b[0m\u001b[0m\n\u001b[1;32m----> 3\u001b[1;33m     \u001b[0msoup\u001b[0m \u001b[1;33m=\u001b[0m \u001b[0mbs\u001b[0m\u001b[1;33m(\u001b[0m\u001b[0mhtml\u001b[0m\u001b[1;33m,\u001b[0m \u001b[1;34m'html.parser'\u001b[0m\u001b[1;33m)\u001b[0m\u001b[1;33m\u001b[0m\u001b[1;33m\u001b[0m\u001b[0m\n\u001b[0m\u001b[0;32m      4\u001b[0m     \u001b[1;32mreturn\u001b[0m \u001b[0msoup\u001b[0m\u001b[1;33m\u001b[0m\u001b[1;33m\u001b[0m\u001b[0m\n",
      "\u001b[1;32mC:\\ProgramData\\Anaconda3\\lib\\site-packages\\bs4\\__init__.py\u001b[0m in \u001b[0;36m__init__\u001b[1;34m(self, markup, features, builder, parse_only, from_encoding, exclude_encodings, element_classes, **kwargs)\u001b[0m\n\u001b[0;32m    308\u001b[0m         \u001b[1;32mif\u001b[0m \u001b[0mhasattr\u001b[0m\u001b[1;33m(\u001b[0m\u001b[0mmarkup\u001b[0m\u001b[1;33m,\u001b[0m \u001b[1;34m'read'\u001b[0m\u001b[1;33m)\u001b[0m\u001b[1;33m:\u001b[0m        \u001b[1;31m# It's a file-type object.\u001b[0m\u001b[1;33m\u001b[0m\u001b[1;33m\u001b[0m\u001b[0m\n\u001b[0;32m    309\u001b[0m             \u001b[0mmarkup\u001b[0m \u001b[1;33m=\u001b[0m \u001b[0mmarkup\u001b[0m\u001b[1;33m.\u001b[0m\u001b[0mread\u001b[0m\u001b[1;33m(\u001b[0m\u001b[1;33m)\u001b[0m\u001b[1;33m\u001b[0m\u001b[1;33m\u001b[0m\u001b[0m\n\u001b[1;32m--> 310\u001b[1;33m         elif len(markup) <= 256 and (\n\u001b[0m\u001b[0;32m    311\u001b[0m                 \u001b[1;33m(\u001b[0m\u001b[0misinstance\u001b[0m\u001b[1;33m(\u001b[0m\u001b[0mmarkup\u001b[0m\u001b[1;33m,\u001b[0m \u001b[0mbytes\u001b[0m\u001b[1;33m)\u001b[0m \u001b[1;32mand\u001b[0m \u001b[1;32mnot\u001b[0m \u001b[1;34mb'<'\u001b[0m \u001b[1;32min\u001b[0m \u001b[0mmarkup\u001b[0m\u001b[1;33m)\u001b[0m\u001b[1;33m\u001b[0m\u001b[1;33m\u001b[0m\u001b[0m\n\u001b[0;32m    312\u001b[0m                 \u001b[1;32mor\u001b[0m \u001b[1;33m(\u001b[0m\u001b[0misinstance\u001b[0m\u001b[1;33m(\u001b[0m\u001b[0mmarkup\u001b[0m\u001b[1;33m,\u001b[0m \u001b[0mstr\u001b[0m\u001b[1;33m)\u001b[0m \u001b[1;32mand\u001b[0m \u001b[1;32mnot\u001b[0m \u001b[1;34m'<'\u001b[0m \u001b[1;32min\u001b[0m \u001b[0mmarkup\u001b[0m\u001b[1;33m)\u001b[0m\u001b[1;33m\u001b[0m\u001b[1;33m\u001b[0m\u001b[0m\n",
      "\u001b[1;31mTypeError\u001b[0m: object of type 'NoneType' has no len()"
     ]
    }
   ],
   "source": [
    "captura_html_pagina(url).prettify()\n",
    "html = captura_html_pagina(url)\n",
    "print(html.prettify())"
   ]
  },
  {
   "cell_type": "code",
   "execution_count": null,
   "metadata": {},
   "outputs": [],
   "source": [
    "html = captura_html_pagina(url)\n",
    "print(html.prettify())"
   ]
  },
  {
   "cell_type": "code",
   "execution_count": null,
   "metadata": {},
   "outputs": [],
   "source": [
    "def Cabecalho(html):\n",
    "    dt = html.find_all('dt')\n",
    "    dd = html.find_all('dd')\n",
    "    dic = {}\n",
    "    for i in range(len(dt)):\n",
    "        x = dt[i].get_text()\n",
    "        y = dd[i].get_text()\n",
    "        dic [x]=y\n",
    "    return dic\n",
    "        "
   ]
  },
  {
   "cell_type": "code",
   "execution_count": null,
   "metadata": {},
   "outputs": [],
   "source": [
    "def TabelaProposicoes(inicia,quantidade, ano):\n",
    "    lista = []\n",
    "    for i in range(quantidade):\n",
    "        lista = lista + [Conteudo(i+1 +inicia,  ano)]\n",
    "        print(i+1, 'Consultas efetuadas | aguardando 0.5 segundos')\n",
    "        time.sleep(0.5)#meio segundo de espaço entre cada iteração da consulta\n",
    "    tabela = pd.DataFrame(lista)\n",
    "    pd.options.display.max_colwidth = None\n",
    "    return tabela"
   ]
  },
  {
   "cell_type": "code",
   "execution_count": null,
   "metadata": {},
   "outputs": [],
   "source": [
    "def Conteudo(proposicao, ano):\n",
    "    url = 'https://www.legislador.com.br//LegisladorWEB.ASP?WCI=ProposicaoTexto&ID=3&TPProposicao=1&nrProposicao='+str(proposicao)+'&aaProposicao='+str(ano)\n",
    "    html = captura_html_pagina(url)\n",
    "    dic = Cabecalho(html)\n",
    "    dic['Proposição'] = proposicao\n",
    "    dic['Ano'] = ano\n",
    "    dic['Texto'] = html.p.get_text()\n",
    "    return dic"
   ]
  },
  {
   "cell_type": "code",
   "execution_count": null,
   "metadata": {},
   "outputs": [],
   "source": [
    "def TabelaResultados(inicar_em, quantidade, ano, erros_admissiveis, segundos_espera):\n",
    "    \n",
    "    ultima_consulta = inicar_em + quantidade - 1\n",
    "\n",
    "    # erros\n",
    "    erros = 0\n",
    "\n",
    "    # variaveis para loop\n",
    "    i = 1\n",
    "    lista = []\n",
    "\n",
    "    while inicar_em <= ultima_consulta and erros <= erros_admissiveis:\n",
    "\n",
    "        try:\n",
    "            x = Conteudo(inicar_em,ano)\n",
    "            lista = lista + [Conteudo(inicar_em,ano)]\n",
    "        except:\n",
    "            erros += 1\n",
    "            pass\n",
    "\n",
    "        time.sleep(segundos_espera)\n",
    "\n",
    "        # carregamento incremental das variáveis\n",
    "        inicar_em+=1 \n",
    "        i+=1\n",
    "\n",
    "\n",
    "    return pd.DataFrame(lista)"
   ]
  },
  {
   "cell_type": "code",
   "execution_count": null,
   "metadata": {},
   "outputs": [],
   "source": [
    "def SQLSelect(query):\n",
    "    try:\n",
    "        conn = pyodbc.connect('Trusted_Connection=yes', \n",
    "                      driver = '{ODBC Driver 13 for SQL Server}',\n",
    "                      server = '(localdb)\\MSSQLLocalDB', \n",
    "                      database = 'FinalETLProd') \n",
    "\n",
    "        out = pd.read_sql_query(query,conn)\n",
    "        return out\n",
    "        print('conectado')\n",
    "    except:\n",
    "        print('erro ao conectar')\n",
    "\n",
    "        "
   ]
  },
  {
   "cell_type": "code",
   "execution_count": null,
   "metadata": {},
   "outputs": [],
   "source": [
    "query = '''\n",
    "    SELECT TOP (10) [Cópia de SubCategoryName]\n",
    "      ,[Cópia de ProductCategoryID]\n",
    "      ,[Cópia de ProductSubcategoryID]\n",
    "      ,[Cópia de ProductID]\n",
    "      ,[Cópia de ProductName]\n",
    "      ,[Cópia de ProductNumber]\n",
    "      ,[Cópia de Color]\n",
    "      ,[Cópia de ListPrice]\n",
    "  FROM [FinalETLProd].[dbo].[FinalETLProd]\n",
    "'''\n",
    "SQLSelect(query)\n"
   ]
  },
  {
   "cell_type": "code",
   "execution_count": null,
   "metadata": {},
   "outputs": [],
   "source": [
    "def SQLTruncate(NomeTabela):\n",
    "        conn = pyodbc.connect('Trusted_Connection=yes', \n",
    "                        driver = '{ODBC Driver 17 for SQL Server}',\n",
    "                        server = '(localdb)\\MSSQLLocalDB', \n",
    "                        database = 'FinalETLProd') \n",
    "\n",
    "\n",
    "        cursor = conn.cursor()\n",
    "\n",
    "        cursor.execute(f'''\n",
    "\n",
    "                   TRUNCATE TABLE {NomeTabela}\n",
    "\n",
    "                   ''')\n",
    "\n",
    "        conn.commit()\n",
    "        cursor.close()"
   ]
  },
  {
   "cell_type": "code",
   "execution_count": null,
   "metadata": {},
   "outputs": [],
   "source": [
    "SQLTruncate('informar a tabela')"
   ]
  },
  {
   "cell_type": "code",
   "execution_count": null,
   "metadata": {},
   "outputs": [],
   "source": [
    "def SQLInsertProposicoes(TabelaProposicoes):\n",
    "    base = pd.DataFrame(columns=['Reunião', 'Deliberação', 'Situação', 'Assunto', 'Autor','Proposicao', 'Ano','Texto'] )\n",
    "    TabelaProposicoes = base.append(TabelaProposicoes).fillna('')\n",
    "    \n",
    "    conn = pyodbc.connect('Trusted_Connection=yes', \n",
    "                          driver = '{ODBC Driver 17 for SQL Server}',\n",
    "                          server = '(localdb)\\MSSQLLocalDB', \n",
    "                          database = 'FinalETLProd')\n",
    "    \n",
    "    \n",
    "    cursor = conn.cursor()\n",
    "    \n",
    "    for index, row in TabelaProposicoes.iterrows():\n",
    "        cursor.execute('''\n",
    "            insert into Proposicoes(\n",
    "                 [DataReuniao]\n",
    "                ,[DataDeliberacao]\n",
    "                ,[Situacao]\n",
    "                ,[Assunto]\n",
    "                ,[Autor]\n",
    "                ,[Proposicao]\n",
    "                ,[Ano]\n",
    "                ,[Texto]\n",
    "            )\n",
    "            values(?,?,?,?,?,?,?,?) \n",
    "         ''' , # mesma quantidade de variáveis\n",
    "    \n",
    "        row['Reunião'], \n",
    "        row['Deliberação'], \n",
    "        row['Situação'], \n",
    "        row['Assunto'], \n",
    "        row['Autor'], \n",
    "        row['Proposição'], \n",
    "        row['Ano'], \n",
    "        row['Texto']\n",
    "    \n",
    "        )\n",
    "    \n",
    "    conn.commit()\n",
    "    cursor.close()\n",
    "    "
   ]
  },
  {
   "cell_type": "code",
   "execution_count": null,
   "metadata": {},
   "outputs": [],
   "source": [
    "teste = TabelaResultados(206,100,2021,2,0.5)\n",
    "#teste #(execulta a consulta)"
   ]
  },
  {
   "cell_type": "code",
   "execution_count": null,
   "metadata": {},
   "outputs": [],
   "source": [
    "SQLInsertProposicoes(teste)\n"
   ]
  },
  {
   "cell_type": "code",
   "execution_count": null,
   "metadata": {},
   "outputs": [],
   "source": [
    "################---inicio-------#######\n",
    "proposicao = 203\n",
    "ano = 2021\n",
    "dados = Conteudo(proposicao, ano)\n",
    "tabela = pd.DataFrame([dados])\n",
    "SQLInsertProposicoes(tabela)\n",
    "#======fim======\n",
    "SQLSelect(f'SELECT * FROM Proposicoes where Proposicao = {proposicao} and ano ={ano}')\n"
   ]
  },
  {
   "cell_type": "code",
   "execution_count": null,
   "metadata": {},
   "outputs": [],
   "source": [
    "ano=2021\n",
    "dados=SQLSelect(f'SELECT max(proposicao) proposicao from Proposicoes where ano ={ano}')\n",
    "dados"
   ]
  },
  {
   "cell_type": "code",
   "execution_count": null,
   "metadata": {},
   "outputs": [],
   "source": [
    "dados['proposicao'].loc[0]"
   ]
  },
  {
   "cell_type": "code",
   "execution_count": null,
   "metadata": {},
   "outputs": [],
   "source": [
    "\n",
    "# ========= INICIO =========\n",
    "ano = 2021\n",
    "\n",
    "dados_ano = SQLSelect(f'select Proposicao = max(Proposicao) from Proposicoes where Ano = {ano}')\n",
    "ultima_proposicao = dados_ano['Proposicao'].loc[0]\n",
    "\n",
    "proxima_proposicao = int(ultima_proposicao) + 1\n",
    "\n",
    "dados = Conteudo(proxima_proposicao,ano)\n",
    "tabela = pd.DataFrame([dados])\n",
    "SQLInsertProposicoes(tabela)\n",
    "# ========= FIM =========\n",
    "\n",
    "\n",
    "# visualizando dados\n",
    "SQLSelect('select * from Proposicoes')"
   ]
  },
  {
   "cell_type": "code",
   "execution_count": null,
   "metadata": {},
   "outputs": [],
   "source": [
    "# Limpar os dados da tabela só pra demonstração\n",
    "#SQLTruncate('Proposicoes')\n",
    "\n",
    "\n",
    "# ========= INICIO =========\n",
    "proposicao = 203\n",
    "ano = 2021\n",
    "dados = Conteudo(proposicao,ano)\n",
    "tabela = pd.DataFrame([dados])\n",
    "SQLInsertProposicoes(tabela)\n",
    "# ========= FIM =========\n",
    "\n",
    "\n",
    "# visualizando dados\n",
    "SQLSelect(f'select * from Proposicoes where Proposicao = {proposicao} and Ano = {ano}')"
   ]
  },
  {
   "cell_type": "code",
   "execution_count": null,
   "metadata": {},
   "outputs": [],
   "source": [
    "ano = 2021\n",
    "dados = SQLSelect(f'select Proposicao = max(Proposicao) from Proposicoes where Ano = {ano}')\n",
    "dados"
   ]
  },
  {
   "cell_type": "code",
   "execution_count": null,
   "metadata": {},
   "outputs": [],
   "source": [
    "# acessando a coluna\n",
    "dados['Proposicao']\n",
    "dados.Proposicao"
   ]
  },
  {
   "cell_type": "code",
   "execution_count": null,
   "metadata": {},
   "outputs": [],
   "source": [
    "# acessando a coluna e linha\n",
    "dados['Proposicao'].loc[0]"
   ]
  },
  {
   "cell_type": "code",
   "execution_count": null,
   "metadata": {},
   "outputs": [],
   "source": [
    "# ========= INICIO =========\n",
    "ano = 2021\n",
    "\n",
    "dados_ano = SQLSelect(f'select Proposicao = max(Proposicao) from Proposicoes where Ano = {ano}')\n",
    "ultima_proposicao = dados_ano['Proposicao'].loc[0]\n",
    "\n",
    "proxima_proposicao = int(ultima_proposicao) + 1\n",
    "\n",
    "dados = Conteudo(proxima_proposicao,ano)\n",
    "tabela = pd.DataFrame([dados])\n",
    "SQLInsertProposicoes(tabela)\n",
    "# ========= FIM =========\n",
    "\n",
    "\n",
    "# visualizando dados\n",
    "SQLSelect('select * from Proposicoes')"
   ]
  },
  {
   "cell_type": "code",
   "execution_count": null,
   "metadata": {},
   "outputs": [],
   "source": [
    "SQLTruncate('Proposicoes')"
   ]
  },
  {
   "cell_type": "code",
   "execution_count": null,
   "metadata": {},
   "outputs": [],
   "source": [
    "# ========= INICIO =========\n",
    "ano = 2021\n",
    "\n",
    "dados_ano = SQLSelect(f'select Proposicao = max(Proposicao) from Proposicoes where Ano = {ano}')\n",
    "ultima_proposicao = dados_ano['Proposicao'].loc[0]\n",
    "\n",
    "\n",
    "# ----- INICIO ALTERAÇÃO ----- \n",
    "if ultima_proposicao == None:\n",
    "    proxima_proposicao = 1\n",
    "else:\n",
    "    proxima_proposicao = int(ultima_proposicao) + 1 \n",
    "# ----- FIM ALTERAÇÃO ----- \n",
    "\n",
    "\n",
    "dados = Conteudo(proxima_proposicao,ano)\n",
    "tabela = pd.DataFrame([dados])\n",
    "SQLInsertProposicoes(tabela)\n",
    "# ========= FIM =========\n",
    "\n",
    "\n",
    "# visualizando dados\n",
    "SQLSelect('select * from Proposicoes')"
   ]
  },
  {
   "cell_type": "code",
   "execution_count": null,
   "metadata": {},
   "outputs": [],
   "source": [
    "def InsereProximaProposicao(ano):\n",
    "    \n",
    "    # Busca última proposição cadastrada\n",
    "    dados_ano = SQLSelect(f'select Proposicao = max(Proposicao) from Proposicoes where Ano = {ano}')\n",
    "    ultima_proposicao = dados_ano['Proposicao'].loc[0]\n",
    "\n",
    "    # Verifica se foi identificado lançamento naquele ano\n",
    "    if ultima_proposicao == None:\n",
    "        proxima_proposicao = 1\n",
    "    else:\n",
    "        proxima_proposicao = int(ultima_proposicao) + 1 \n",
    "\n",
    "    # Captura e Insere dados na tabela\n",
    "    dados = Conteudo(proxima_proposicao,ano)\n",
    "    tabela = pd.DataFrame([dados])\n",
    "    SQLInsertProposicoes(tabela)"
   ]
  },
  {
   "cell_type": "code",
   "execution_count": null,
   "metadata": {},
   "outputs": [],
   "source": [
    "InsereProximaProposicao(1996)\n",
    "SQLSelect('select *from Proposicoes')"
   ]
  },
  {
   "cell_type": "code",
   "execution_count": null,
   "metadata": {},
   "outputs": [],
   "source": [
    "SQLTruncate('Proposicoes')"
   ]
  },
  {
   "cell_type": "code",
   "execution_count": null,
   "metadata": {},
   "outputs": [],
   "source": [
    "ano = 1996\n",
    "quantidade = 999990\n",
    "erros_admissiveis = 2\n",
    "segundos_espera = 0\n",
    "\n",
    "# erros\n",
    "erros = 0\n",
    "# variaveis do loop\n",
    "i = 1\n",
    "lista = []\n",
    "while erros <= erros_admissiveis:\n",
    "    try:\n",
    "        InsereProximaProposicao(ano)\n",
    "    except:\n",
    "        erros += 1\n",
    "        pass\n",
    "    time.sleep(segundos_espera)\n",
    "    # carregamento incremental das variáveis\n",
    "    i += 1\n"
   ]
  },
  {
   "cell_type": "code",
   "execution_count": null,
   "metadata": {},
   "outputs": [],
   "source": [
    "# Limpando dados da tabela\n",
    "SQLTruncate('Proposicoes')\n",
    "\n",
    "# Visualizando a tabela\n",
    "SQLSelect('select *from Proposicoes')"
   ]
  },
  {
   "cell_type": "code",
   "execution_count": null,
   "metadata": {},
   "outputs": [],
   "source": [
    "def BuscaGravaDadosAno(ano, quantidade = 10, erros_admissiveis = 2, segundos_espera = 1):\n",
    "    \n",
    "    # erros\n",
    "    erros = 0\n",
    "\n",
    "    # variaveis para loop\n",
    "    i = 1\n",
    "    lista = []\n",
    "\n",
    "    while erros <= erros_admissiveis:\n",
    "\n",
    "        try:\n",
    "            InsereProximaProposicao(ano)\n",
    "        except:\n",
    "            erros += 1\n",
    "            pass\n",
    "\n",
    "        time.sleep(segundos_espera)\n",
    "\n",
    "        # carregamento incremental das variáveis"
   ]
  },
  {
   "cell_type": "code",
   "execution_count": null,
   "metadata": {},
   "outputs": [],
   "source": [
    "BuscaGravaDadosAno(1996,24)"
   ]
  },
  {
   "cell_type": "code",
   "execution_count": null,
   "metadata": {},
   "outputs": [],
   "source": [
    "ano_fim = 2021\n",
    "ano_ini = 1996\n",
    "anos = ano_fim - ano_ini + 1\n",
    "for i in range(anos):\n",
    "    print(i+ano_ini)"
   ]
  },
  {
   "cell_type": "code",
   "execution_count": null,
   "metadata": {},
   "outputs": [],
   "source": [
    "list(range(1996,1998+1))"
   ]
  },
  {
   "cell_type": "code",
   "execution_count": null,
   "metadata": {},
   "outputs": [],
   "source": [
    "# Limpando dados da tabela\n",
    "SQLTruncate('Proposicoes')\n",
    "\n",
    "# Visualizando a tabela\n",
    "SQLSelect('select *from Proposicoes')"
   ]
  },
  {
   "cell_type": "code",
   "execution_count": null,
   "metadata": {},
   "outputs": [],
   "source": [
    "ano_inicial = 1996\n",
    "ano_final = 1996\n",
    "\n",
    "for i in list(range(ano_inicial, ano_final+1)):\n",
    "    print('Iniciando gravação dos dados do ano: ',i)\n",
    "    try:\n",
    "        BuscaGravaDadosAno(i, quantidade = 999999)\n",
    "    except:\n",
    "        pass\n",
    "    \n",
    "print('Inserção finalizada 😁')"
   ]
  }
 ],
 "metadata": {
  "interpreter": {
   "hash": "cce530332cff06c24b58a61b30a51f42c950876c50e2156a66e3b704f37760bd"
  },
  "kernelspec": {
   "display_name": "Python 3.8.5 64-bit ('base': conda)",
   "name": "python3"
  },
  "language_info": {
   "codemirror_mode": {
    "name": "ipython",
    "version": 3
   },
   "file_extension": ".py",
   "mimetype": "text/x-python",
   "name": "python",
   "nbconvert_exporter": "python",
   "pygments_lexer": "ipython3",
   "version": "3.8.5"
  },
  "orig_nbformat": 4
 },
 "nbformat": 4,
 "nbformat_minor": 2
}

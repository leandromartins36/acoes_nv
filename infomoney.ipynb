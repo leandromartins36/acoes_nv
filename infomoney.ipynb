{
 "cells": [
  {
   "cell_type": "code",
   "execution_count": null,
   "metadata": {},
   "outputs": [],
   "source": [
    "import pandas as pd\n",
    "import requests as rs\n",
    "# from IPython.display import HTML\n",
    "from urllib.request import urlopen, Request\n",
    "from bs4 import BeautifulSoup as bs\n",
    "from urllib.error import URLError, HTTPError\n",
    "import urllib\n",
    "from urllib.request import urlopen, Request\n",
    "import ssl\n",
    "from selenium import webdriver\n",
    "from selenium.webdriver import Firefox\n",
    "import time\n"
   ]
  },
  {
   "cell_type": "code",
   "execution_count": null,
   "metadata": {},
   "outputs": [],
   "source": [
    "navegador = webdriver.Firefox(executable_path='./geckodriver.exe')\n",
    "navegador.maximize_window()\n"
   ]
  },
  {
   "cell_type": "code",
   "execution_count": null,
   "metadata": {},
   "outputs": [],
   "source": [
    "agente = 'Mozilla/5.0 (X11; Linux x86_64) AppleWebKit/537.36 (KHTML, like Gecko) Chrome/93.0.4577.63 Safari/537.36'\n",
    "headers = {'User-Agent': agente}\n",
    "# gcontext = ssl.SSLContext() usado junto com a biblioteca urllib"
   ]
  },
  {
   "cell_type": "code",
   "execution_count": null,
   "metadata": {},
   "outputs": [],
   "source": [
    "# url = \"https://www.infomoney.com.br/cotacoes/\"\n",
    "# navegador.get(url)"
   ]
  },
  {
   "cell_type": "code",
   "execution_count": 27,
   "metadata": {},
   "outputs": [
    {
     "name": "stdout",
     "output_type": "stream",
     "text": [
      "                   Empresas\n",
      "0                  ibovespa\n",
      "1    caixa-seguridade-cxse3\n",
      "2       bb-seguridade-bbse3\n",
      "3  fundo-imobiliario-cxco11\n",
      "4        porto-seguro-pssa3\n",
      "5         sulamerica-sula11\n",
      "<class 'list'>\n"
     ]
    },
    {
     "data": {
      "text/plain": [
       "'a'"
      ]
     },
     "execution_count": 27,
     "metadata": {},
     "output_type": "execute_result"
    }
   ],
   "source": [
    "\n",
    "empresas_df = pd.read_excel('EmpresasInfomoney.xlsx')\n",
    "print((empresas_df))\n",
    "empresas = [empresas_df]\n",
    "print(type(empresas))\n",
    "empresa[3]\n",
    "# contador = 0\n",
    "# while (contador < len(empresas_df)):\n",
    "#     print(\"a empresa é :\"+empresas_df)\n",
    "#     contador +=1"
   ]
  },
  {
   "cell_type": "code",
   "execution_count": 25,
   "metadata": {},
   "outputs": [
    {
     "data": {
      "text/html": [
       "<div>\n",
       "<style scoped>\n",
       "    .dataframe tbody tr th:only-of-type {\n",
       "        vertical-align: middle;\n",
       "    }\n",
       "\n",
       "    .dataframe tbody tr th {\n",
       "        vertical-align: top;\n",
       "    }\n",
       "\n",
       "    .dataframe thead th {\n",
       "        text-align: right;\n",
       "    }\n",
       "</style>\n",
       "<table border=\"1\" class=\"dataframe\">\n",
       "  <thead>\n",
       "    <tr style=\"text-align: right;\">\n",
       "      <th></th>\n",
       "      <th>DATA</th>\n",
       "      <th>ABERTURA</th>\n",
       "      <th>FECHAMENTO</th>\n",
       "      <th>VARIAÇÃO</th>\n",
       "      <th>MÍNIMO</th>\n",
       "      <th>MÁXIMO</th>\n",
       "      <th>VOLUME</th>\n",
       "    </tr>\n",
       "  </thead>\n",
       "  <tbody>\n",
       "    <tr>\n",
       "      <th>0</th>\n",
       "      <td>05/11/2021</td>\n",
       "      <td>27.80</td>\n",
       "      <td>28.14</td>\n",
       "      <td>2.25</td>\n",
       "      <td>27.41</td>\n",
       "      <td>28.47</td>\n",
       "      <td>119,93M</td>\n",
       "    </tr>\n",
       "    <tr>\n",
       "      <th>1</th>\n",
       "      <td>04/11/2021</td>\n",
       "      <td>27.48</td>\n",
       "      <td>27.52</td>\n",
       "      <td>0.15</td>\n",
       "      <td>27.03</td>\n",
       "      <td>28.08</td>\n",
       "      <td>126,47M</td>\n",
       "    </tr>\n",
       "    <tr>\n",
       "      <th>2</th>\n",
       "      <td>03/11/2021</td>\n",
       "      <td>25.82</td>\n",
       "      <td>27.48</td>\n",
       "      <td>5.86</td>\n",
       "      <td>25.81</td>\n",
       "      <td>27.56</td>\n",
       "      <td>139,99M</td>\n",
       "    </tr>\n",
       "    <tr>\n",
       "      <th>3</th>\n",
       "      <td>01/11/2021</td>\n",
       "      <td>n/d</td>\n",
       "      <td>25.96</td>\n",
       "      <td>-0.04</td>\n",
       "      <td>25.74</td>\n",
       "      <td>26.35</td>\n",
       "      <td>69,64M</td>\n",
       "    </tr>\n",
       "    <tr>\n",
       "      <th>4</th>\n",
       "      <td>29/10/2021</td>\n",
       "      <td>25.77</td>\n",
       "      <td>25.97</td>\n",
       "      <td>1.49</td>\n",
       "      <td>25.24</td>\n",
       "      <td>26.46</td>\n",
       "      <td>150,24M</td>\n",
       "    </tr>\n",
       "  </tbody>\n",
       "</table>\n",
       "</div>"
      ],
      "text/plain": [
       "         DATA ABERTURA  FECHAMENTO  VARIAÇÃO  MÍNIMO  MÁXIMO   VOLUME\n",
       "0  05/11/2021    27.80       28.14      2.25   27.41   28.47  119,93M\n",
       "1  04/11/2021    27.48       27.52      0.15   27.03   28.08  126,47M\n",
       "2  03/11/2021    25.82       27.48      5.86   25.81   27.56  139,99M\n",
       "3  01/11/2021      n/d       25.96     -0.04   25.74   26.35   69,64M\n",
       "4  29/10/2021    25.77       25.97      1.49   25.24   26.46  150,24M"
      ]
     },
     "execution_count": 25,
     "metadata": {},
     "output_type": "execute_result"
    }
   ],
   "source": [
    "#percorre a requisição e captura o html de cada pagina\n",
    "empresas_df = pd.read_excel('EmpresasInfomoney.xlsx')\n",
    "url = \"https://www.infomoney.com.br/cotacoes/\"\n",
    "\n",
    "contador = 0\n",
    "while (contador < len(empresas_df)):\n",
    "    for empresa in empresas_df[\"Empresas\"]:\n",
    "        url_nv = ''.join([url,empresa,'/historico/'])\n",
    "        #print(empresa)\n",
    "        navegador.get(url_nv)\n",
    "        time.sleep(5)\n",
    "        conteudo = rs.get(url_nv, headers=headers)\n",
    "        tb_din = navegador.find_element_by_xpath('//*[@id=\"quotes_history\"]').get_attribute('outerHTML')#\n",
    "        df = pd.read_html(tb_din, decimal = ',', thousands = '.')\n",
    "        time.sleep(5)\n",
    "        contador +=1    \n",
    "df[0].head()\n",
    "\n"
   ]
  },
  {
   "cell_type": "code",
   "execution_count": null,
   "metadata": {},
   "outputs": [],
   "source": []
  },
  {
   "cell_type": "code",
   "execution_count": null,
   "metadata": {},
   "outputs": [],
   "source": [
    "navegador.find_element_by_xpath('/html/body/div[7]/div/div[1]/div[2]/div/table/thead/tr/th[1]').click()"
   ]
  },
  {
   "cell_type": "code",
   "execution_count": null,
   "metadata": {},
   "outputs": [],
   "source": [
    "\n",
    "\n"
   ]
  }
 ],
 "metadata": {
  "interpreter": {
   "hash": "cce530332cff06c24b58a61b30a51f42c950876c50e2156a66e3b704f37760bd"
  },
  "kernelspec": {
   "display_name": "Python 3.8.5 64-bit ('base': conda)",
   "name": "python3"
  },
  "language_info": {
   "codemirror_mode": {
    "name": "ipython",
    "version": 3
   },
   "file_extension": ".py",
   "mimetype": "text/x-python",
   "name": "python",
   "nbconvert_exporter": "python",
   "pygments_lexer": "ipython3",
   "version": "3.8.5"
  },
  "orig_nbformat": 4
 },
 "nbformat": 4,
 "nbformat_minor": 2
}

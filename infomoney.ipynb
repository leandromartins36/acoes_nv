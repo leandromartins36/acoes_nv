{
 "cells": [
  {
   "cell_type": "code",
   "execution_count": 1,
   "metadata": {},
   "outputs": [],
   "source": [
    "# import pandas_datareader.data as web\n",
    "from bs4 import BeautifulSoup as bs\n",
    "# import ssl\n",
    "import pandas as pd\n",
    "import requests as rs\n",
    "from selenium import webdriver\n",
    "from selenium.webdriver import Firefox\n",
    "from selenium.webdriver.firefox.options import Options\n",
    "from selenium.webdriver.chrome.options import Options\n",
    "import time\n",
    "import glob\n",
    "import pyodbc\n",
    "import os\n",
    "from tkinter import *\n",
    "import tkinter.filedialog\n",
    "from tkinter import messagebox"
   ]
  },
  {
   "cell_type": "code",
   "execution_count": 2,
   "metadata": {},
   "outputs": [],
   "source": [
    "\n",
    "# navegador = webdriver.Firefox(executable_path='./geckodriver.exe')\n",
    "# navegador.set_preference(\"browser.privatebrowsing.autostart\", True)\n",
    "# firefox_options = Options()\n",
    "# firefox_options.add_argument(\"--headless\")\n",
    "# navegador.maximize_window()\n",
    "# agente = 'Mozilla/5.0 (X11; Linux x86_64) AppleWebKit/537.36 (KHTML, like Gecko) Chrome/93.0.4577.63 Safari/537.36'\n",
    "# headers = {'User-Agent': agente}\n"
   ]
  },
  {
   "cell_type": "code",
   "execution_count": 3,
   "metadata": {},
   "outputs": [
    {
     "name": "stderr",
     "output_type": "stream",
     "text": [
      "C:\\Users\\leandro\\AppData\\Local\\Temp/ipykernel_21080/4027905770.py:3: DeprecationWarning: use options instead of chrome_options\n",
      "  navegador = webdriver.Chrome(chrome_options=chrome_options)\n"
     ]
    }
   ],
   "source": [
    "\n",
    "chrome_options = Options()\n",
    "chrome_options.add_argument(\"--headless\")\n",
    "navegador = webdriver.Chrome(chrome_options=chrome_options)\n",
    "navegador.maximize_window()\n",
    "agente = 'Mozilla/5.0 (X11; Linux x86_64) AppleWebKit/537.36 (KHTML, like Gecko) Chrome/93.0.4577.63 Safari/537.36'\n",
    "headers = {'User-Agent': agente}\n"
   ]
  },
  {
   "cell_type": "code",
   "execution_count": 4,
   "metadata": {},
   "outputs": [],
   "source": [
    "# percorre a requisição e captura o html de cada pagina\n",
    "# dataframe vindo da planilha de empresas.\n",
    "empresas_df = pd.read_excel('EmpresasInfomoney.xlsx')\n",
    "url = \"https://www.infomoney.com.br/cotacoes/\"\n",
    "tabelaResul = []\n",
    "contador = 0\n",
    "while (contador < len(empresas_df)):\n",
    "    for empresa in empresas_df[\"Empresas\"]:\n",
    "        url_nv = ''.join([url, empresa, '/historico/'])\n",
    "        # print(empresa)\n",
    "        navegador.get(url_nv)\n",
    "        time.sleep(5)\n",
    "        conteudo = rs.get(url_nv, headers=headers)\n",
    "        time.sleep(3)\n",
    "        # encontra o elemento da pagina e grava na memoria os dados da tabela.\n",
    "        tb_din = navegador.find_element_by_xpath(\n",
    "            '//*[@id=\"quotes_history\"]').get_attribute('outerHTML')\n",
    "        sigla_html = navegador.find_element_by_xpath(\n",
    "            '/html/body/div[4]/div/div[1]/div[1]/div/div[1]/h1')\n",
    "        # , index_col=\"DATA\" incluir após thousands para colocar a data como indice.\n",
    "        pd_html = pd.read_html(tb_din, decimal=',', thousands='.')\n",
    "        df = pd.DataFrame(pd_html[0])\n",
    "        df['EMPRESA'] = sigla_html.text\n",
    "        time.sleep(3)\n",
    "        tabelaResul.append(df.head(1))\n",
    "        contador += 1\n",
    "        time.sleep(3)\n"
   ]
  },
  {
   "cell_type": "code",
   "execution_count": 5,
   "metadata": {},
   "outputs": [],
   "source": [
    "\n",
    "url_cxco11 = \"https://www.infomoney.com.br/cotacoes/fundos-imobiliarios-cxco11/\"\n",
    "Empresa_cx = ''\n",
    "navegador.get(url_cxco11)\n",
    "\n",
    "cx_fechamento = navegador.find_element_by_xpath(\n",
    "    '/html/body/main/section/div/div/div[1]/div[2]/div[1]/span[1]').get_attribute('outerHTML')\n",
    "cx_sigla_html = navegador.find_element_by_xpath(\n",
    "    '/html/body/main/section/div/div/div[1]/div[1]/div/h1').get_attribute('outerHTML')\n",
    "cx_fechamento_bs = bs(cx_fechamento, parser='html.parser')\n",
    "cx_sigla = bs(cx_sigla_html, parser='html.parser')\n",
    "\n",
    "cx_data_df = pd.DataFrame(tabelaResul[0])\n",
    "cx_data_df['DATA']\n",
    "\n",
    "cxco11_list1 = pd.Series(cx_data_df['DATA'])\n",
    "cxco11_list2 = pd.Series(float(cx_fechamento_bs.text.replace(\",\", \".\")), name='FECHAMENTO')\n",
    "cxco11_list3 = pd.Series(cx_sigla.text, name='EMPRESA')\n",
    "\n",
    "df_cxco11 = pd.concat([cxco11_list1, cxco11_list2, cxco11_list3], axis=1)\n",
    "\n",
    "df_cxco11.to_excel(f'acoesfiltradas/cxco1.xlsx',\n",
    "                   columns=['DATA', 'FECHAMENTO', 'EMPRESA'],  index=False)\n"
   ]
  },
  {
   "cell_type": "code",
   "execution_count": 6,
   "metadata": {},
   "outputs": [],
   "source": [
    "def criar_plans_filtradas():\n",
    "    acoes_tratadas = []\n",
    "    for i in range(len(empresas_df)):\n",
    "        pdf = pd.DataFrame(tabelaResul[i].head(2), columns=None)\n",
    "        acoes_tratadas.append(pdf[['DATA', 'FECHAMENTO', 'EMPRESA']])\n",
    "        acoesfiltradas = pdf.to_excel(f'acoesfiltradas/acoesfiltradas{i}.xlsx', columns=[\n",
    "                                      'DATA', 'FECHAMENTO', 'EMPRESA'],  index=False)\n"
   ]
  },
  {
   "cell_type": "code",
   "execution_count": 7,
   "metadata": {},
   "outputs": [],
   "source": [
    "dados_historicos = pd.DataFrame()\n",
    "def juntar_planilhas():\n",
    "    dados_historicos = pd.DataFrame()\n",
    "    dados = glob.glob('acoesfiltradas\\*.xlsx')\n",
    "    dados_historicos += dados_historicos\n",
    "    for i in dados:\n",
    "        tabela = pd.read_excel(i)\n",
    "        dados_historicos = pd.concat(\n",
    "            [dados_historicos, tabela], axis=0, ignore_index=True)\n",
    "    dados_historicos.to_excel('./acoesfiltradas.xlsx', index=False)\n"
   ]
  },
  {
   "cell_type": "code",
   "execution_count": 8,
   "metadata": {},
   "outputs": [],
   "source": [
    "# prepara_sql = pd.read_excel('./acoesfiltradas.xlsx')"
   ]
  },
  {
   "cell_type": "code",
   "execution_count": 9,
   "metadata": {},
   "outputs": [],
   "source": [
    "def SQLInserirDados(TabelaRecebeDados):\n",
    "    prepara_sql = pd.read_excel('./acoesfiltradas.xlsx')\n",
    "    dados_historicos = prepara_sql\n",
    "    try:\n",
    "\n",
    "        cnxn = pyodbc.connect('Trusted_Connection=yes',\n",
    "                              driver='{SQL Server}',\n",
    "                              server='LEANDROPC\\SQLDEVELOPER2019',\n",
    "                              database='ACOESINFO')\n",
    "\n",
    "        cursor = cnxn.cursor()\n",
    "        # Insert Dataframe into SQL Server:\n",
    "        for index, row in dados_historicos.iterrows():\n",
    "            cursor.execute(\"INSERT INTO [ACOESINFO].[dbo].[ACOESINFOMONEY] ( [DATA],[FECHAMENTO],[EMPRESA]) values(?,?,?)\",\n",
    "                           row.DATA, row.FECHAMENTO, row.EMPRESA)\n",
    "\n",
    "        cnxn.commit()\n",
    "        print(\"Inserindo dados\")\n",
    "    except ConnectionError as e:\n",
    "        print(\"Erro de conexão: \", e)\n",
    "\n",
    "    finally:\n",
    "\n",
    "        cursor.close()\n",
    "        cnxn.close()\n"
   ]
  },
  {
   "cell_type": "code",
   "execution_count": 10,
   "metadata": {},
   "outputs": [],
   "source": [
    "def selectDatdos(consultar):\n",
    "\n",
    "    try:\n",
    "        connStr = pyodbc.connect('Trusted_Connection=yes',\n",
    "                                 driver='{SQL Server}',\n",
    "                                 server='LEANDROPC\\SQLDEVELOPER2019',\n",
    "                                 database='ACOESINFO')\n",
    "\n",
    "        saida = pd.read_sql(consultar, connStr)\n",
    "        return saida\n",
    "        print(\"consultando\")\n",
    "    except ConnectionError as e:\n",
    "        print(\"Erro de conexão: \", e)\n"
   ]
  },
  {
   "cell_type": "code",
   "execution_count": 11,
   "metadata": {},
   "outputs": [],
   "source": [
    "\n",
    "\n",
    "criar_plans_filtradas()\n",
    "time.sleep(0.1)\n",
    "juntar_planilhas()\n",
    "time.sleep(0.1)\n",
    "navegador.quit()\n",
    "\n"
   ]
  },
  {
   "cell_type": "code",
   "execution_count": 12,
   "metadata": {},
   "outputs": [
    {
     "name": "stdout",
     "output_type": "stream",
     "text": [
      "Inserindo dados\n"
     ]
    },
    {
     "data": {
      "text/html": [
       "<div>\n",
       "<style scoped>\n",
       "    .dataframe tbody tr th:only-of-type {\n",
       "        vertical-align: middle;\n",
       "    }\n",
       "\n",
       "    .dataframe tbody tr th {\n",
       "        vertical-align: top;\n",
       "    }\n",
       "\n",
       "    .dataframe thead th {\n",
       "        text-align: right;\n",
       "    }\n",
       "</style>\n",
       "<table border=\"1\" class=\"dataframe\">\n",
       "  <thead>\n",
       "    <tr style=\"text-align: right;\">\n",
       "      <th></th>\n",
       "      <th>DATA</th>\n",
       "      <th>FECHAMENTO</th>\n",
       "      <th>EMPRESA</th>\n",
       "      <th>DT_CARGA</th>\n",
       "    </tr>\n",
       "  </thead>\n",
       "  <tbody>\n",
       "    <tr>\n",
       "      <th>0</th>\n",
       "      <td>26/11/2021</td>\n",
       "      <td>102224.00</td>\n",
       "      <td>Ibovespa (IBOV)</td>\n",
       "      <td>2021-11-28</td>\n",
       "    </tr>\n",
       "    <tr>\n",
       "      <th>1</th>\n",
       "      <td>26/11/2021</td>\n",
       "      <td>8.72</td>\n",
       "      <td>Caixa Seguridade (CXSE3)</td>\n",
       "      <td>2021-11-28</td>\n",
       "    </tr>\n",
       "    <tr>\n",
       "      <th>2</th>\n",
       "      <td>26/11/2021</td>\n",
       "      <td>21.53</td>\n",
       "      <td>BB Seguridade (BBSE3)</td>\n",
       "      <td>2021-11-28</td>\n",
       "    </tr>\n",
       "    <tr>\n",
       "      <th>3</th>\n",
       "      <td>26/11/2021</td>\n",
       "      <td>71.10</td>\n",
       "      <td>Fundos Imobiliários CXCO11</td>\n",
       "      <td>2021-11-28</td>\n",
       "    </tr>\n",
       "  </tbody>\n",
       "</table>\n",
       "</div>"
      ],
      "text/plain": [
       "         DATA  FECHAMENTO                     EMPRESA    DT_CARGA\n",
       "0  26/11/2021   102224.00             Ibovespa (IBOV)  2021-11-28\n",
       "1  26/11/2021        8.72    Caixa Seguridade (CXSE3)  2021-11-28\n",
       "2  26/11/2021       21.53       BB Seguridade (BBSE3)  2021-11-28\n",
       "3  26/11/2021       71.10  Fundos Imobiliários CXCO11  2021-11-28"
      ]
     },
     "execution_count": 12,
     "metadata": {},
     "output_type": "execute_result"
    }
   ],
   "source": [
    "SQLInserirDados('[ACOESINFO].[dbo].[ACOESINFOMONEY]')\n",
    "time.sleep(0.1)\n",
    "selectDatdos(consultar = \"select * FROM [ACOESINFO].[dbo].[ACOESINFOMONEY]\")\n"
   ]
  },
  {
   "cell_type": "code",
   "execution_count": null,
   "metadata": {},
   "outputs": [],
   "source": [
    "time.sleep(0.1)\n",
    "\n",
    "janela = Tk()\n",
    "\n",
    "dados_salvos = selectDatdos(consultar=\"select * FROM [ACOESINFO].[dbo].[ACOESINFOMONEY]\")\n",
    "\n",
    "messagebox.showinfo(\"Os dados foram salvos no banco de dados: \", dados_salvos)\n",
    "\n",
    "janela.destroy()"
   ]
  }
 ],
 "metadata": {
  "interpreter": {
   "hash": "cce530332cff06c24b58a61b30a51f42c950876c50e2156a66e3b704f37760bd"
  },
  "kernelspec": {
   "display_name": "Python 3.8.5 64-bit ('base': conda)",
   "name": "python3"
  },
  "language_info": {
   "codemirror_mode": {
    "name": "ipython",
    "version": 3
   },
   "file_extension": ".py",
   "mimetype": "text/x-python",
   "name": "python",
   "nbconvert_exporter": "python",
   "pygments_lexer": "ipython3",
   "version": "3.9.7"
  },
  "orig_nbformat": 4
 },
 "nbformat": 4,
 "nbformat_minor": 2
}

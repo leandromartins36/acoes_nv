{
 "cells": [
  {
   "cell_type": "code",
   "execution_count": null,
   "metadata": {},
   "outputs": [],
   "source": [
    "# gcontext = ssl.SSLContext() usado junto com a biblioteca urllib\n",
    "# url = \"https://www.infomoney.com.br/cotacoes/\"\n",
    "# navegador.get(url)\n",
    "# navegador.find_element_by_xpath('/html/body/div[7]/div/div[1]/div[2]/div/table/thead/tr/th[1]').click() #faz a ordenação da coluna de data no site do infomoney\n",
    "# display(pd_html[0].head())\n",
    "# pd_html[0].info()\n",
    "# pd_html[0]\n",
    "# df.info()\n",
    "# df.astype('str').dtypes\n",
    "# df[['FECHAMENTO']].head(1)\n",
    "#navegador = webdriver.Firefox(executable_path='./geckodriver.exe', options=firefox_options)\n",
    "# navegador.maximize_window()\n",
    "#sigla_re = re.findall(r'\\((.*?)\\)',sigla_html.text)\n",
    "#sigla_series = pd.Series([sigla_re])\n",
    "#sigla_df = pd.DataFrame([sigla_re])\n",
    "# sigla_html = navegador.find_element_by_xpath('/html/body/div[4]/div/div[1]/div[1]/div/div[1]/h1')\n",
    "# sigla_re = re.findall(r'\\((.*?)\\)',sigla_html.text)\n",
    "# sigla_str = sigla_html.text[-7:-1]\n",
    "# sigla_str\n",
    "# sigla_str = sigla_html.text[sigla_re]\n",
    "#sigla_series = pd.DataFrame(sigla_re)\n",
    "# sigla_series\n",
    "#sigla_str = sigla_html.text[-7:-1]\n",
    "#sigla_str = re.findall(r'\\((.*?)\\)',sigla_html.text)"
   ]
  },
  {
   "cell_type": "code",
   "execution_count": 52,
   "metadata": {},
   "outputs": [],
   "source": [
    "# ##### bibliotecas utilizadas na captura dos dados.\n",
    "# from urllib.error import URLError, HTTPError\n",
    "# import urllib\n",
    "# # import re #regex\n",
    "# import numpy as np\n",
    "# from urllib.request import urlopen, Request\n",
    "import pandas as pd\n",
    "import requests as rs\n",
    "from bs4 import BeautifulSoup as bs\n",
    "import ssl\n",
    "from selenium import webdriver\n",
    "from selenium.webdriver import Firefox\n",
    "from selenium.webdriver.firefox.options import Options\n",
    "import time\n",
    "import pandas_datareader.data as web\n"
   ]
  },
  {
   "cell_type": "code",
   "execution_count": 53,
   "metadata": {},
   "outputs": [],
   "source": [
    "navegador = webdriver.FirefoxProfile()\n",
    "navegador.set_preference(\"browser.privatebrowsing.autostart\", True)\n",
    "firefox_options = Options()\n",
    "firefox_options.add_argument(\"--headless\")\n",
    "navegador = webdriver.Firefox(\n",
    "    firefox_profile=navegador, options=firefox_options)\n",
    "agente = 'Mozilla/5.0 (X11; Linux x86_64) AppleWebKit/537.36 (KHTML, like Gecko) Chrome/93.0.4577.63 Safari/537.36'\n",
    "headers = {'User-Agent': agente}\n"
   ]
  },
  {
   "cell_type": "code",
   "execution_count": 140,
   "metadata": {},
   "outputs": [],
   "source": [
    "# percorre a requisição e captura o html de cada pagina\n",
    "# dataframe vindo da planilha de empresas.\n",
    "empresas_df = pd.read_excel('EmpresasInfomoney.xlsx')\n",
    "url = \"https://www.infomoney.com.br/cotacoes/\"\n",
    "tabelaResul = pd.DataFrame()\n",
    "sigla_html = pd.DataFrame()\n",
    "contador = 0\n",
    "while (contador < len(empresas_df)):\n",
    "    for empresa in empresas_df[\"Empresas\"]:\n",
    "        url_nv = ''.join([url, empresa, '/historico/'])\n",
    "        # print(empresa)\n",
    "        navegador.get(url_nv)\n",
    "        time.sleep(5)\n",
    "        conteudo = rs.get(url_nv, headers=headers)\n",
    "        time.sleep(3)\n",
    "        # encontra o elemento da pagina e grava na memoria os dados da tabela.\n",
    "        tb_din = navegador.find_element_by_xpath(\n",
    "            '//*[@id=\"quotes_history\"]').get_attribute('outerHTML')\n",
    "        sigla_html = navegador.find_element_by_xpath(\n",
    "            '/html/body/div[4]/div/div[1]/div[1]/div/div[1]/h1')\n",
    "        # , index_col=\"DATA\" incluir após thousands para colocar a data como indice.\n",
    "        pd_html = pd.read_html(tb_din, decimal=',', thousands='.')\n",
    "        df = pd.DataFrame(pd_html[0])\n",
    "        df['EMPRESA'] = sigla_html.text\n",
    "        time.sleep(3)\n",
    "        tabelaResul.append(df)\n",
    "        contador += 1\n",
    "        time.sleep(3)\n"
   ]
  },
  {
   "cell_type": "code",
   "execution_count": 141,
   "metadata": {},
   "outputs": [
    {
     "data": {
      "text/html": [
       "<div>\n",
       "<style scoped>\n",
       "    .dataframe tbody tr th:only-of-type {\n",
       "        vertical-align: middle;\n",
       "    }\n",
       "\n",
       "    .dataframe tbody tr th {\n",
       "        vertical-align: top;\n",
       "    }\n",
       "\n",
       "    .dataframe thead th {\n",
       "        text-align: right;\n",
       "    }\n",
       "</style>\n",
       "<table border=\"1\" class=\"dataframe\">\n",
       "  <thead>\n",
       "    <tr style=\"text-align: right;\">\n",
       "      <th></th>\n",
       "      <th>Empresas</th>\n",
       "    </tr>\n",
       "  </thead>\n",
       "  <tbody>\n",
       "    <tr>\n",
       "      <th>0</th>\n",
       "      <td>ibovespa</td>\n",
       "    </tr>\n",
       "    <tr>\n",
       "      <th>1</th>\n",
       "      <td>caixa-seguridade-cxse3</td>\n",
       "    </tr>\n",
       "    <tr>\n",
       "      <th>2</th>\n",
       "      <td>bb-seguridade-bbse3</td>\n",
       "    </tr>\n",
       "    <tr>\n",
       "      <th>3</th>\n",
       "      <td>fundo-imobiliario-cxco11</td>\n",
       "    </tr>\n",
       "    <tr>\n",
       "      <th>4</th>\n",
       "      <td>porto-seguro-pssa3</td>\n",
       "    </tr>\n",
       "    <tr>\n",
       "      <th>5</th>\n",
       "      <td>sulamerica-sula11</td>\n",
       "    </tr>\n",
       "  </tbody>\n",
       "</table>\n",
       "</div>"
      ],
      "text/plain": [
       "                   Empresas\n",
       "0                  ibovespa\n",
       "1    caixa-seguridade-cxse3\n",
       "2       bb-seguridade-bbse3\n",
       "3  fundo-imobiliario-cxco11\n",
       "4        porto-seguro-pssa3\n",
       "5         sulamerica-sula11"
      ]
     },
     "execution_count": 141,
     "metadata": {},
     "output_type": "execute_result"
    }
   ],
   "source": [
    "empresas_df"
   ]
  },
  {
   "cell_type": "code",
   "execution_count": null,
   "metadata": {},
   "outputs": [],
   "source": [
    "sigla_html.text"
   ]
  },
  {
   "cell_type": "code",
   "execution_count": 131,
   "metadata": {},
   "outputs": [
    {
     "name": "stdout",
     "output_type": "stream",
     "text": [
      "0\n",
      "1\n",
      "2\n",
      "3\n",
      "4\n",
      "5\n"
     ]
    }
   ],
   "source": [
    "# dft.filter(['DATA','FECHAMENTO','EMPRESA']).head()\n",
    "for i in range(len(empresas_df)):\n",
    "      print(i)\n",
    "      "
   ]
  },
  {
   "cell_type": "code",
   "execution_count": null,
   "metadata": {},
   "outputs": [],
   "source": [
    "for empresa in empresas_df[\"Empresas\"]:\n",
    "    url_nv = ''.join([url, empresa, '/historico/'])\n",
    "    # print(empresa)\n",
    "    navegador.get(url_nv)\n",
    "    time.sleep(5)\n",
    "    conteudo = rs.get(url_nv, headers=headers)\n",
    "    time.sleep(3)\n",
    "    # encontra o elemento da pagina e grava na memoria os dados da tabela.\n",
    "    tb_din = navegador.find_element_by_xpath(\n",
    "        '//*[@id=\"quotes_history\"]').get_attribute('outerHTML')\n",
    "    sigla_html = navegador.find_element_by_xpath(\n",
    "        '/html/body/div[4]/div/div[1]/div[1]/div/div[1]/h1')\n",
    "    # , index_col=\"DATA\" incluir após thousands para colocar a data como indice.\n",
    "    pd_html = pd.read_html(tb_din, decimal=',', thousands='.')\n",
    "    df = pd.DataFrame(pd_html[0])\n",
    "    df['EMPRESA'] = sigla_html.text\n",
    "    time.sleep(3)\n",
    "    tabelaResul.append(df)\n",
    "    contador += 1\n",
    "    time.sleep(3)\n"
   ]
  },
  {
   "cell_type": "code",
   "execution_count": 105,
   "metadata": {},
   "outputs": [
    {
     "data": {
      "text/html": [
       "<div>\n",
       "<style scoped>\n",
       "    .dataframe tbody tr th:only-of-type {\n",
       "        vertical-align: middle;\n",
       "    }\n",
       "\n",
       "    .dataframe tbody tr th {\n",
       "        vertical-align: top;\n",
       "    }\n",
       "\n",
       "    .dataframe thead th {\n",
       "        text-align: right;\n",
       "    }\n",
       "</style>\n",
       "<table border=\"1\" class=\"dataframe\">\n",
       "  <thead>\n",
       "    <tr style=\"text-align: right;\">\n",
       "      <th></th>\n",
       "    </tr>\n",
       "  </thead>\n",
       "  <tbody>\n",
       "  </tbody>\n",
       "</table>\n",
       "</div>"
      ],
      "text/plain": [
       "Empty DataFrame\n",
       "Columns: []\n",
       "Index: []"
      ]
     },
     "execution_count": 105,
     "metadata": {},
     "output_type": "execute_result"
    }
   ],
   "source": [
    "tabelaResul.head()"
   ]
  },
  {
   "cell_type": "code",
   "execution_count": 99,
   "metadata": {},
   "outputs": [
    {
     "data": {
      "text/html": [
       "<div>\n",
       "<style scoped>\n",
       "    .dataframe tbody tr th:only-of-type {\n",
       "        vertical-align: middle;\n",
       "    }\n",
       "\n",
       "    .dataframe tbody tr th {\n",
       "        vertical-align: top;\n",
       "    }\n",
       "\n",
       "    .dataframe thead th {\n",
       "        text-align: right;\n",
       "    }\n",
       "</style>\n",
       "<table border=\"1\" class=\"dataframe\">\n",
       "  <thead>\n",
       "    <tr style=\"text-align: right;\">\n",
       "      <th></th>\n",
       "      <th>DATA</th>\n",
       "      <th>ABERTURA</th>\n",
       "      <th>FECHAMENTO</th>\n",
       "      <th>VARIAÇÃO</th>\n",
       "      <th>MÍNIMO</th>\n",
       "      <th>MÁXIMO</th>\n",
       "      <th>VOLUME</th>\n",
       "      <th>EMPRESA</th>\n",
       "    </tr>\n",
       "  </thead>\n",
       "  <tbody>\n",
       "    <tr>\n",
       "      <th>0</th>\n",
       "      <td>09/11/2021</td>\n",
       "      <td>28.07</td>\n",
       "      <td>28.74</td>\n",
       "      <td>2.39</td>\n",
       "      <td>27.96</td>\n",
       "      <td>28.92</td>\n",
       "      <td>84,01M</td>\n",
       "      <td>Sul América (SULA11)</td>\n",
       "    </tr>\n",
       "    <tr>\n",
       "      <th>1</th>\n",
       "      <td>08/11/2021</td>\n",
       "      <td>27.81</td>\n",
       "      <td>28.07</td>\n",
       "      <td>-0.25</td>\n",
       "      <td>27.56</td>\n",
       "      <td>28.39</td>\n",
       "      <td>86,65M</td>\n",
       "      <td>Sul América (SULA11)</td>\n",
       "    </tr>\n",
       "    <tr>\n",
       "      <th>2</th>\n",
       "      <td>05/11/2021</td>\n",
       "      <td>27.80</td>\n",
       "      <td>28.14</td>\n",
       "      <td>2.25</td>\n",
       "      <td>27.41</td>\n",
       "      <td>28.47</td>\n",
       "      <td>119,93M</td>\n",
       "      <td>Sul América (SULA11)</td>\n",
       "    </tr>\n",
       "    <tr>\n",
       "      <th>3</th>\n",
       "      <td>04/11/2021</td>\n",
       "      <td>27.48</td>\n",
       "      <td>27.52</td>\n",
       "      <td>0.15</td>\n",
       "      <td>27.03</td>\n",
       "      <td>28.08</td>\n",
       "      <td>126,47M</td>\n",
       "      <td>Sul América (SULA11)</td>\n",
       "    </tr>\n",
       "    <tr>\n",
       "      <th>4</th>\n",
       "      <td>03/11/2021</td>\n",
       "      <td>25.82</td>\n",
       "      <td>27.48</td>\n",
       "      <td>5.86</td>\n",
       "      <td>25.81</td>\n",
       "      <td>27.56</td>\n",
       "      <td>139,99M</td>\n",
       "      <td>Sul América (SULA11)</td>\n",
       "    </tr>\n",
       "  </tbody>\n",
       "</table>\n",
       "</div>"
      ],
      "text/plain": [
       "         DATA ABERTURA  FECHAMENTO  VARIAÇÃO  MÍNIMO  MÁXIMO   VOLUME  \\\n",
       "0  09/11/2021    28.07       28.74      2.39   27.96   28.92   84,01M   \n",
       "1  08/11/2021    27.81       28.07     -0.25   27.56   28.39   86,65M   \n",
       "2  05/11/2021    27.80       28.14      2.25   27.41   28.47  119,93M   \n",
       "3  04/11/2021    27.48       27.52      0.15   27.03   28.08  126,47M   \n",
       "4  03/11/2021    25.82       27.48      5.86   25.81   27.56  139,99M   \n",
       "\n",
       "                EMPRESA  \n",
       "0  Sul América (SULA11)  \n",
       "1  Sul América (SULA11)  \n",
       "2  Sul América (SULA11)  \n",
       "3  Sul América (SULA11)  \n",
       "4  Sul América (SULA11)  "
      ]
     },
     "execution_count": 99,
     "metadata": {},
     "output_type": "execute_result"
    }
   ],
   "source": [
    "df.head()"
   ]
  }
 ],
 "metadata": {
  "interpreter": {
   "hash": "cce530332cff06c24b58a61b30a51f42c950876c50e2156a66e3b704f37760bd"
  },
  "kernelspec": {
   "display_name": "Python 3.8.5 64-bit ('base': conda)",
   "name": "python3"
  },
  "language_info": {
   "codemirror_mode": {
    "name": "ipython",
    "version": 3
   },
   "file_extension": ".py",
   "mimetype": "text/x-python",
   "name": "python",
   "nbconvert_exporter": "python",
   "pygments_lexer": "ipython3",
   "version": "3.8.5"
  },
  "orig_nbformat": 4
 },
 "nbformat": 4,
 "nbformat_minor": 2
}

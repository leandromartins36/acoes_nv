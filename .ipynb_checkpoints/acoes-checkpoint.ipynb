{
 "cells": [
  {
   "cell_type": "markdown",
   "metadata": {},
   "source": [
    "!pip install yfinance --upgrade --no-cache-dir\n",
    "!pip install pandas_datareader --upgrade --no-cache-dir\n",
    "from datetime import datetime\n",
    "start = datetime(2021, 10, 1).strftime('%Y-%m-%d')\n",
    "end = datetime.today().strftime('%Y-%m-%d')\n",
    "print(start, end)"
   ]
  },
  {
   "cell_type": "code",
   "execution_count": 2,
   "metadata": {},
   "outputs": [],
   "source": [
    "import numpy as np\n",
    "import pandas as pd \n",
    "import matplotlib.pyplot as plt\n",
    "import pandas_datareader.data as web\n",
    "import yfinance as yf \n",
    "yf.pdr_override()\n",
    "from datetime import datetime"
   ]
  },
  {
   "cell_type": "code",
   "execution_count": 3,
   "metadata": {},
   "outputs": [],
   "source": [
    "#data de inicio e fim da captura do historico de ações\n",
    "#yf.pdr_override()\n",
    "data_inicial = datetime(2021, 10, 15).strftime('%Y-%m-%d')\n",
    "data_final = datetime.today().strftime('%Y-%m-%d')\n",
    "\n",
    "\n"
   ]
  },
  {
   "cell_type": "code",
   "execution_count": 4,
   "metadata": {},
   "outputs": [
    {
     "data": {
      "text/html": [
       "<div>\n",
       "<style scoped>\n",
       "    .dataframe tbody tr th:only-of-type {\n",
       "        vertical-align: middle;\n",
       "    }\n",
       "\n",
       "    .dataframe tbody tr th {\n",
       "        vertical-align: top;\n",
       "    }\n",
       "\n",
       "    .dataframe thead th {\n",
       "        text-align: right;\n",
       "    }\n",
       "</style>\n",
       "<table border=\"1\" class=\"dataframe\">\n",
       "  <thead>\n",
       "    <tr style=\"text-align: right;\">\n",
       "      <th></th>\n",
       "      <th>Empresas</th>\n",
       "    </tr>\n",
       "  </thead>\n",
       "  <tbody>\n",
       "    <tr>\n",
       "      <th>0</th>\n",
       "      <td>^BVSP</td>\n",
       "    </tr>\n",
       "    <tr>\n",
       "      <th>1</th>\n",
       "      <td>CXSE3</td>\n",
       "    </tr>\n",
       "    <tr>\n",
       "      <th>2</th>\n",
       "      <td>BBSE3</td>\n",
       "    </tr>\n",
       "    <tr>\n",
       "      <th>3</th>\n",
       "      <td>CXCO11</td>\n",
       "    </tr>\n",
       "    <tr>\n",
       "      <th>4</th>\n",
       "      <td>PSSA3</td>\n",
       "    </tr>\n",
       "    <tr>\n",
       "      <th>5</th>\n",
       "      <td>SULA11</td>\n",
       "    </tr>\n",
       "  </tbody>\n",
       "</table>\n",
       "</div>"
      ],
      "text/plain": [
       "  Empresas\n",
       "0    ^BVSP\n",
       "1    CXSE3\n",
       "2    BBSE3\n",
       "3   CXCO11\n",
       "4    PSSA3\n",
       "5   SULA11"
      ]
     },
     "execution_count": 4,
     "metadata": {},
     "output_type": "execute_result"
    }
   ],
   "source": [
    "#le a planilha de ações\n",
    "empresas_df = pd.read_excel(\"Empresas.xlsx\")\n",
    "empresas_df"
   ]
  },
  {
   "cell_type": "code",
   "execution_count": 5,
   "metadata": {},
   "outputs": [
    {
     "name": "stdout",
     "output_type": "stream",
     "text": [
      "^BVSP:\n",
      "[*********************100%***********************]  1 of 1 completed\n"
     ]
    },
    {
     "data": {
      "text/plain": [
       "Date\n",
       "2021-10-15    114648.0\n",
       "2021-10-18    114428.0\n",
       "2021-10-19    110673.0\n",
       "2021-10-20    110786.0\n",
       "2021-10-21    107735.0\n",
       "2021-10-22    106296.0\n",
       "2021-10-25    108715.0\n",
       "2021-10-26    106420.0\n",
       "2021-10-27    106363.0\n",
       "2021-10-28    105705.0\n",
       "2021-10-29    103501.0\n",
       "2021-11-01    105551.0\n",
       "Name: Adj Close, dtype: float64"
      ]
     },
     "metadata": {},
     "output_type": "display_data"
    },
    {
     "name": "stdout",
     "output_type": "stream",
     "text": [
      "CXSE3:\n",
      "[*********************100%***********************]  1 of 1 completed\n"
     ]
    },
    {
     "data": {
      "text/plain": [
       "Date\n",
       "2021-10-15    9.69\n",
       "2021-10-18    9.90\n",
       "2021-10-19    9.66\n",
       "2021-10-20    9.59\n",
       "2021-10-21    9.14\n",
       "2021-10-22    9.04\n",
       "2021-10-25    9.40\n",
       "2021-10-26    9.02\n",
       "2021-10-27    8.93\n",
       "2021-10-28    8.78\n",
       "2021-10-29    8.75\n",
       "2021-11-01    8.97\n",
       "Name: Adj Close, dtype: float64"
      ]
     },
     "metadata": {},
     "output_type": "display_data"
    },
    {
     "name": "stdout",
     "output_type": "stream",
     "text": [
      "BBSE3:\n",
      "[*********************100%***********************]  1 of 1 completed\n"
     ]
    },
    {
     "data": {
      "text/plain": [
       "Date\n",
       "2021-10-15    21.680000\n",
       "2021-10-18    21.680000\n",
       "2021-10-19    21.260000\n",
       "2021-10-20    21.410000\n",
       "2021-10-21    21.500000\n",
       "2021-10-22    21.670000\n",
       "2021-10-25    22.440001\n",
       "2021-10-26    22.170000\n",
       "2021-10-27    22.500000\n",
       "2021-10-28    22.170000\n",
       "2021-10-29    22.090000\n",
       "2021-11-01    22.049999\n",
       "Name: Adj Close, dtype: float64"
      ]
     },
     "metadata": {},
     "output_type": "display_data"
    },
    {
     "name": "stdout",
     "output_type": "stream",
     "text": [
      "CXCO11:\n",
      "[*********************100%***********************]  1 of 1 completed\n",
      "\n",
      "1 Failed download:\n",
      "- CXCO11.SA: No data found for this date range, symbol may be delisted\n"
     ]
    },
    {
     "data": {
      "text/plain": [
       "Series([], Name: Adj Close, dtype: float64)"
      ]
     },
     "metadata": {},
     "output_type": "display_data"
    },
    {
     "name": "stdout",
     "output_type": "stream",
     "text": [
      "PSSA3:\n",
      "[*********************100%***********************]  1 of 1 completed\n"
     ]
    },
    {
     "data": {
      "text/plain": [
       "Date\n",
       "2021-10-15    22.658997\n",
       "2021-10-18    22.822046\n",
       "2021-10-19    23.103678\n",
       "2021-10-20    23.439659\n",
       "2021-10-21    23.637297\n",
       "2021-10-22    23.528597\n",
       "2021-10-25    23.795406\n",
       "2021-10-26    23.242025\n",
       "2021-10-27    23.498951\n",
       "2021-10-28    23.390251\n",
       "2021-10-29    23.064152\n",
       "2021-11-01    23.400000\n",
       "Name: Adj Close, dtype: float64"
      ]
     },
     "metadata": {},
     "output_type": "display_data"
    },
    {
     "name": "stdout",
     "output_type": "stream",
     "text": [
      "SULA11:\n",
      "[*********************100%***********************]  1 of 1 completed\n"
     ]
    },
    {
     "data": {
      "text/plain": [
       "Date\n",
       "2021-10-15    26.559999\n",
       "2021-10-18    26.340000\n",
       "2021-10-19    25.480000\n",
       "2021-10-20    26.260000\n",
       "2021-10-21    25.540001\n",
       "2021-10-22    25.620001\n",
       "2021-10-25    25.930000\n",
       "2021-10-26    25.480000\n",
       "2021-10-27    26.459999\n",
       "2021-10-28    25.590000\n",
       "2021-10-29    25.969999\n",
       "2021-11-01    25.959999\n",
       "Name: Adj Close, dtype: float64"
      ]
     },
     "metadata": {},
     "output_type": "display_data"
    }
   ],
   "source": [
    "#percorre o data frame e mostra as ações\n",
    "for empresa in empresas_df['Empresas']: \n",
    "    print(f\"{empresa}:\")\n",
    "    if empresa == '^BVSP':        \n",
    "        df = web.DataReader(f'{empresa}', data_source='yahoo', start=data_inicial, end=data_final)\n",
    "    else:\n",
    "        df = web.DataReader(f'{empresa}.SA', data_source='yahoo', start=data_inicial, end=data_final)\n",
    "    display(df[\"Adj Close\"])"
   ]
  },
  {
   "cell_type": "code",
   "execution_count": null,
   "metadata": {},
   "outputs": [],
   "source": []
  }
 ],
 "metadata": {
  "interpreter": {
   "hash": "cce530332cff06c24b58a61b30a51f42c950876c50e2156a66e3b704f37760bd"
  },
  "kernelspec": {
   "display_name": "Python 3",
   "language": "python",
   "name": "python3"
  },
  "language_info": {
   "codemirror_mode": {
    "name": "ipython",
    "version": 3
   },
   "file_extension": ".py",
   "mimetype": "text/x-python",
   "name": "python",
   "nbconvert_exporter": "python",
   "pygments_lexer": "ipython3",
   "version": "3.8.5"
  }
 },
 "nbformat": 4,
 "nbformat_minor": 2
}
